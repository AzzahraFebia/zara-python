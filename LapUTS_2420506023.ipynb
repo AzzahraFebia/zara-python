{
  "nbformat": 4,
  "nbformat_minor": 0,
  "metadata": {
    "colab": {
      "provenance": [],
      "authorship_tag": "ABX9TyPXsiI6vpUf2mwVag6kYElj",
      "include_colab_link": true
    },
    "kernelspec": {
      "name": "python3",
      "display_name": "Python 3"
    },
    "language_info": {
      "name": "python"
    }
  },
  "cells": [
    {
      "cell_type": "markdown",
      "metadata": {
        "id": "view-in-github",
        "colab_type": "text"
      },
      "source": [
        "<a href=\"https://colab.research.google.com/github/AzzahraFebia/zara-python/blob/main/LapUTS_2420506023.ipynb\" target=\"_parent\"><img src=\"https://colab.research.google.com/assets/colab-badge.svg\" alt=\"Open In Colab\"/></a>"
      ]
    },
    {
      "cell_type": "code",
      "execution_count": null,
      "metadata": {
        "colab": {
          "base_uri": "https://localhost:8080/"
        },
        "id": "3TP-j3VqZpum",
        "outputId": "b46805b9-4811-42f3-9ee5-ebc35a3984ef"
      },
      "outputs": [
        {
          "output_type": "stream",
          "name": "stdout",
          "text": [
            "Masukkan NPM Anda 2420506023\n",
            "Jumlah bilangan genap: 8\n",
            "Jumlah bilangan ganjil: 2\n"
          ]
        }
      ],
      "source": [
        "# Meminta user memasukkan NPM\n",
        "NPM = input(\"Masukkan NPM Anda \")\n",
        "\n",
        "# Menentukan angka genap dan ganjil\n",
        "bilangan_genap = 0\n",
        "bilangan_ganjil = 0\n",
        "for angka in NPM:\n",
        "  if int (angka) % 2 == 0:\n",
        "    bilangan_genap += 1\n",
        "  else:\n",
        "    bilangan_ganjil += 1\n",
        "\n",
        "# Menampilkan hasil\n",
        "print(f\"Jumlah bilangan genap: {bilangan_genap}\")\n",
        "print(f\"Jumlah bilangan ganjil: {bilangan_ganjil}\")"
      ]
    },
    {
      "cell_type": "code",
      "source": [
        "# Meminta user memasukkan tinggi segitiga\n",
        "tinggi = int(input(\"Masukkan Tinggi: \"))\n",
        "\n",
        "# Menampilkan hasil\n",
        "for i in range(1, tinggi+1):\n",
        "  for j in range(1, i+1):\n",
        "    print(i*j, end=\" \")\n",
        "  print()"
      ],
      "metadata": {
        "id": "jdYZqpiMdeZi",
        "colab": {
          "base_uri": "https://localhost:8080/"
        },
        "outputId": "f06f2baa-69b7-4876-e529-bb1924e75ed8"
      },
      "execution_count": null,
      "outputs": [
        {
          "output_type": "stream",
          "name": "stdout",
          "text": [
            "Masukkan Tinggi: 10\n",
            "1 \n",
            "2 4 \n",
            "3 6 9 \n",
            "4 8 12 16 \n",
            "5 10 15 20 25 \n",
            "6 12 18 24 30 36 \n",
            "7 14 21 28 35 42 49 \n",
            "8 16 24 32 40 48 56 64 \n",
            "9 18 27 36 45 54 63 72 81 \n",
            "10 20 30 40 50 60 70 80 90 100 \n"
          ]
        }
      ]
    },
    {
      "cell_type": "code",
      "source": [],
      "metadata": {
        "id": "XGLX-nWMfQot"
      },
      "execution_count": null,
      "outputs": []
    }
  ]
}