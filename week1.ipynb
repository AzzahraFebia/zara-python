{
  "nbformat": 4,
  "nbformat_minor": 0,
  "metadata": {
    "colab": {
      "provenance": [],
      "authorship_tag": "ABX9TyNESAjFOh+98n/VjD+uSiqq",
      "include_colab_link": true
    },
    "kernelspec": {
      "name": "python3",
      "display_name": "Python 3"
    },
    "language_info": {
      "name": "python"
    }
  },
  "cells": [
    {
      "cell_type": "markdown",
      "metadata": {
        "id": "view-in-github",
        "colab_type": "text"
      },
      "source": [
        "<a href=\"https://colab.research.google.com/github/AzzahraFebia/zara-python1/blob/main/week1.ipynb\" target=\"_parent\"><img src=\"https://colab.research.google.com/assets/colab-badge.svg\" alt=\"Open In Colab\"/></a>"
      ]
    },
    {
      "cell_type": "code",
      "execution_count": null,
      "metadata": {
        "colab": {
          "base_uri": "https://localhost:8080/"
        },
        "id": "slEyf6diOVUN",
        "outputId": "74e2b20f-faa0-4264-e5b5-a0023621e08f"
      },
      "outputs": [
        {
          "output_type": "stream",
          "name": "stdout",
          "text": [
            "Hello, coolyeah!\n"
          ]
        }
      ],
      "source": [
        "# Try your first Python output\n",
        "print('Hello, coolyeah!')"
      ]
    },
    {
      "cell_type": "code",
      "source": [
        "# Write your code cell below and press Shift+Enter to execute\n",
        "print('Hello, world!')"
      ],
      "metadata": {
        "colab": {
          "base_uri": "https://localhost:8080/"
        },
        "id": "PnKEnEAkSyiU",
        "outputId": "a77fd4d9-fa88-4913-e6a1-fe74ef89bc85"
      },
      "execution_count": null,
      "outputs": [
        {
          "output_type": "stream",
          "name": "stdout",
          "text": [
            "Hello, world!\n"
          ]
        }
      ]
    },
    {
      "cell_type": "code",
      "source": [
        "print('Nama          : Azzahra Febia Mufida')\n",
        "print('NPM           : 2420506023')\n",
        "print('Alamat        : Jl.Bali 8, Panca Arga, Mertoyudan, Magelang')\n",
        "print('Tinggi Badan  : 165.0')\n",
        "print('Berat Badan   : 50.0')"
      ],
      "metadata": {
        "colab": {
          "base_uri": "https://localhost:8080/"
        },
        "id": "JZd73XP2URW0",
        "outputId": "ab8dd6a2-231b-4fad-c59d-fb2f36384012"
      },
      "execution_count": null,
      "outputs": [
        {
          "output_type": "stream",
          "name": "stdout",
          "text": [
            "Nama          : Azzahra Febia Mufida\n",
            "NPM           : 2420506023\n",
            "Alamat        : Jl.Bali 8, Panca Arga, Mertoyudan, Magelang\n",
            "Tinggi Badan  : 165.0\n",
            "Berat Badan   : 50.0\n"
          ]
        }
      ]
    },
    {
      "cell_type": "code",
      "source": [
        "print('\\033[1mUNIVERSITAS TIDAR\\033[0m')\n",
        "print('Universitas Tidar merupakan Perguruan Tinggi Pemerintah atau Perguruan Tinggi yang telah ditetapkan berdasarkan Peraturan Presiden Republik Indonesia Nomor 23 Tahub 2014 pada tanggal 1 April 2014')\n",
        "print()\n",
        "print('\\033[1mJURUSAN TEKNIK ELEKTRO, MEKATRONIKA, DAN INFORMASI\\033[0m')\n",
        "print('Jurusan Teknik Elektro terdiri atas tiga program studi, antara lain:')\n",
        "print('  1. S1 Teknik Elektro \\033[3m(Bachelor of Electrical Engineering)\\033[0m')\n",
        "print('  2. S1 Teknologi Informasi \\033[3m(Bachelor of Information Technology)\\033[0m')\n",
        "print('  3. S1 Teknik Mekatronika \\033[3m(Bachelor of Mechatronis Engineering)\\033[0m')"
      ],
      "metadata": {
        "colab": {
          "base_uri": "https://localhost:8080/"
        },
        "id": "zrzANzueVlRv",
        "outputId": "f2257d36-69af-4dcb-ef13-93b1167608e1"
      },
      "execution_count": null,
      "outputs": [
        {
          "output_type": "stream",
          "name": "stdout",
          "text": [
            "\u001b[1mUNIVERSITAS TIDAR\u001b[0m\n",
            "Universitas Tidar merupakan Perguruan Tinggi Pemerintah atau Perguruan Tinggi yang telah ditetapkan berdasarkan Peraturan Presiden Republik Indonesia Nomor 23 Tahub 2014 pada tanggal 1 April 2014\n",
            "\n",
            "\u001b[1mJURUSAN TEKNIK ELEKTRO, MEKATRONIKA, DAN INFORMASI\u001b[0m\n",
            "Jurusan Teknik Elektro terdiri atas tiga program studi, antara lain:\n",
            "  1. S1 Teknik Elektro \u001b[3m(Bachelor of Electrical Engineering)\u001b[0m\n",
            "  2. S1 Teknologi Informasi \u001b[3m(Bachelor of Information Technology)\u001b[0m\n",
            "  3. S1 Teknik Mekatronika \u001b[3m(Bachelor of Mechatronis Engineering)\u001b[0m\n"
          ]
        }
      ]
    },
    {
      "cell_type": "markdown",
      "source": [],
      "metadata": {
        "id": "P1WVCOajkW_-"
      }
    },
    {
      "cell_type": "code",
      "source": [],
      "metadata": {
        "id": "D7ZimwszkP-8"
      },
      "execution_count": null,
      "outputs": []
    }
  ]
}