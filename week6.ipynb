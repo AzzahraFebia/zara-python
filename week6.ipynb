{
  "nbformat": 4,
  "nbformat_minor": 0,
  "metadata": {
    "colab": {
      "provenance": [],
      "authorship_tag": "ABX9TyMyBD30tZAEoOH995wW99FN",
      "include_colab_link": true
    },
    "kernelspec": {
      "name": "python3",
      "display_name": "Python 3"
    },
    "language_info": {
      "name": "python"
    }
  },
  "cells": [
    {
      "cell_type": "markdown",
      "metadata": {
        "id": "view-in-github",
        "colab_type": "text"
      },
      "source": [
        "<a href=\"https://colab.research.google.com/github/AzzahraFebia/zara-python/blob/main/week6.ipynb\" target=\"_parent\"><img src=\"https://colab.research.google.com/assets/colab-badge.svg\" alt=\"Open In Colab\"/></a>"
      ]
    },
    {
      "cell_type": "code",
      "source": [
        "# WEEKLY EXERCISE 1\n",
        "# Meminta user menentukan tinggi bintang\n",
        "Tinggi = int(input(\"Masukkan jumlah baris bintang: \"))\n",
        "\n",
        "# Loop untuk membuat bintang\n",
        "for i in range (Tinggi):\n",
        "  for j in range (Tinggi - i - 1):\n",
        "    print(' ', end='')\n",
        "  for j in range(i+1):\n",
        "      print ('* ', end='')\n",
        "\n",
        "# Mencetak baris baru\n",
        "  print()"
      ],
      "metadata": {
        "colab": {
          "base_uri": "https://localhost:8080/"
        },
        "id": "QDWa4zxSTfFj",
        "outputId": "14579b54-3113-4509-8423-443a78bd9f4a"
      },
      "execution_count": 4,
      "outputs": [
        {
          "output_type": "stream",
          "name": "stdout",
          "text": [
            "Masukkan jumlah baris bintang: 5\n",
            "    * \n",
            "   * * \n",
            "  * * * \n",
            " * * * * \n",
            "* * * * * \n"
          ]
        }
      ]
    },
    {
      "cell_type": "code",
      "source": [
        "# WEEKLY EXERCISE 2\n",
        "# Meminta user memasukkan jumlah baris\n",
        "Baris = int(input(\"Masukkan jumlah baris: \"))\n",
        "\n",
        "# Membuat loop\n",
        "for i in range(Baris):\n",
        "    print(' ' * (Baris - i), end='')\n",
        "    nilai = 1\n",
        "    for j in range(i + 1):\n",
        "      print(nilai, end=\" \")\n",
        "\n",
        "# Menggunakan rumus kombinasi\n",
        "      nilai = nilai * (i - j) // (j + 1)\n",
        "    print()"
      ],
      "metadata": {
        "colab": {
          "base_uri": "https://localhost:8080/"
        },
        "id": "ilza7HpIac1A",
        "outputId": "ce4fb3e6-1d2b-48cd-a951-5d4a4d67284b"
      },
      "execution_count": 86,
      "outputs": [
        {
          "output_type": "stream",
          "name": "stdout",
          "text": [
            "Masukkan jumlah baris: 5\n",
            "     1 \n",
            "    1 1 \n",
            "   1 2 1 \n",
            "  1 3 3 1 \n",
            " 1 4 6 4 1 \n"
          ]
        }
      ]
    },
    {
      "cell_type": "code",
      "source": [
        "# WEEKLY EXERCISE 3\n",
        "# Meminta jumlah baris dari user\n",
        "jumlah_baris = int(input(\"Masukkan jumlah baris: \"))\n",
        "\n",
        "# Menyimpan nilai dalam baris\n",
        "baris = [1]\n",
        "\n",
        "# Menghitung nilai\n",
        "for i in range(1, jumlah_baris):\n",
        "    baris_baru = [1]\n",
        "    for j in range(1, i):\n",
        "        baris_baru.append(baris[j-1] + baris[j])\n",
        "    baris_baru.append(1)\n",
        "    baris = baris_baru\n",
        "jumlah = 0\n",
        "\n",
        "# Menjumlahkan secara manual\n",
        "for angka in baris:\n",
        "    jumlah += angka\n",
        "\n",
        "print(\"Jumlah angka dalam baris\", jumlah_baris, \":\", jumlah)"
      ],
      "metadata": {
        "colab": {
          "base_uri": "https://localhost:8080/"
        },
        "id": "G4Mut5QTU2uy",
        "outputId": "db8e6da6-c546-4be5-8a0b-183f6c5f09f8"
      },
      "execution_count": 8,
      "outputs": [
        {
          "output_type": "stream",
          "name": "stdout",
          "text": [
            "Masukkan jumlah baris: 3\n",
            "Jumlah angka dalam baris 3 : 4\n"
          ]
        }
      ]
    }
  ]
}