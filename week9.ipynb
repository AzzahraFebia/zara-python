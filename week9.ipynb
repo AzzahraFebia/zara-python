{
  "nbformat": 4,
  "nbformat_minor": 0,
  "metadata": {
    "colab": {
      "provenance": [],
      "authorship_tag": "ABX9TyP8fLatnshziYP28D1Yaq3F",
      "include_colab_link": true
    },
    "kernelspec": {
      "name": "python3",
      "display_name": "Python 3"
    },
    "language_info": {
      "name": "python"
    }
  },
  "cells": [
    {
      "cell_type": "markdown",
      "metadata": {
        "id": "view-in-github",
        "colab_type": "text"
      },
      "source": [
        "<a href=\"https://colab.research.google.com/github/AzzahraFebia/zara-python/blob/main/week9.ipynb\" target=\"_parent\"><img src=\"https://colab.research.google.com/assets/colab-badge.svg\" alt=\"Open In Colab\"/></a>"
      ]
    },
    {
      "cell_type": "markdown",
      "source": [
        "Weekly Exercise 1\n",
        "\n",
        "Sebutkan dan jelaskan perbedaan dari list, tuple, set dan dictionary dalam python!\n",
        "\n",
        "List, tuple, set, dan dictionary keempatnya memiliki kualitas dan kegunaan yang berbeda.\n",
        "- **List**: kumpulan yang terurut dan dapat diubah, mengizinkan adanya duplikat, dan list dibuat menggunakan tanda kurung siku.\n",
        "- **Tuple**: kumpulan yang terurut dan tidak dapat diubah, mengizinkan adanya duplikat, dan tuple ditulis dengan tanda kurung bulat.\n",
        "- **Set**: kumpulan yang tidak berurutan, tidak dapat diubah, dan tidak terindeks. Item yang ditetapkan tidak dapat diubah, namun item dapat dihapus dan menambahkan item baru. Tidak ada duplikat serta ditulis dengan tanda kurung kurawal.\n",
        "- **Dictionary**: kumpulan yang berurutan/tertata dan dapat diubah, tidak memungkinkan adanya duplikat serta ditulis dengan tanda kurung kurawal.\n",
        "\n",
        "Untuk list, tuple, dan sets, ketiganya digunakan untuk menyimpan banyak item dalam satu variabel. Sedangkan dictionary digunakan untuk store data values in key: value pairs.\n"
      ],
      "metadata": {
        "id": "UBicvk1COzcl"
      }
    },
    {
      "cell_type": "markdown",
      "source": [
        "## <h3 id=\"WeeklyExercise1\">Weekly Exercise 2</h3>\n",
        "- Buatlah dan tentukan tipe collection untuk mengelola data kalian dengan rincian di bawah :<br/>\n",
        "    Nama : nama mahasiswa <br/>\n",
        "    Kelas : kelas mahasiswa <br/>\n",
        "    Tanggal Lahir : tanggal lahir mahasiswa <br/>\n",
        "    no hp : no hp mahasiswa <br/>\n",
        "    alamat : alamat mahasiswa <br/>\n",
        "    Hobi : <br/>\n",
        "    1. Hobi 1 <br/>\n",
        "    2. Hobi 2 <br/>\n",
        "    3. dst <br/>\n",
        "- Tampilkan seluruh data dengan teknik perulangan"
      ],
      "metadata": {
        "id": "fSTbqeuesJsw"
      }
    },
    {
      "cell_type": "code",
      "source": [
        "# Membuat data dengan tipe data dictionary\n",
        "data_mahasiswa = [\n",
        "    {\n",
        "    \"Nama\"          :\"Febia\",\n",
        "    \"Kelas\"         :\"Rombel 1\",\n",
        "    \"Tanggal Lahir\" :\"7 Februari 2006\",\n",
        "    \"No HP\"         :\"085848748477\",\n",
        "    \"Alamat\"        :\"Mertoyudan, Magelang\",\n",
        "    \"Hobi\"          :[\"Mendengarkan music\", \"Olahraga\", \"Menonton\"]\n",
        "    }\n",
        "]\n",
        "\n",
        "# Menampilkan data Mahasiswa\n",
        "for mahasiswa in data_mahasiswa:\n",
        "    print(\"Nama         :\", mahasiswa[\"Nama\"])\n",
        "    print(\"Kelas        :\", mahasiswa[\"Kelas\"])\n",
        "    print(\"Tanggal Lahir:\", mahasiswa[\"Tanggal Lahir\"])\n",
        "    print(\"No HP        :\", mahasiswa[\"No HP\"])\n",
        "    print(\"Alamat       :\", mahasiswa[\"Alamat\"])\n",
        "    print(\"Hobi         :\")\n",
        "\n",
        "# Memberi urutan angka pada hobi sesuai jumlah hobi\n",
        "    no = 1\n",
        "    for hobi in mahasiswa[\"Hobi\"]:\n",
        "        print(f\"{no}. {hobi}\")\n",
        "        no += 1\n",
        "    print()\n",
        "\n",
        "# Menentukan tipe collection\n",
        "print(\"collection data types: \", type(data_mahasiswa))\n",
        "print(\"collection data types: \", type(mahasiswa))"
      ],
      "metadata": {
        "id": "mlJfWbNuw725",
        "colab": {
          "base_uri": "https://localhost:8080/"
        },
        "outputId": "7a116ee0-02c4-43e8-a5a8-73a36ac7e766"
      },
      "execution_count": 4,
      "outputs": [
        {
          "output_type": "stream",
          "name": "stdout",
          "text": [
            "Nama         : Febia\n",
            "Kelas        : Rombel 1\n",
            "Tanggal Lahir: 7 Februari 2006\n",
            "No HP        : 085848748477\n",
            "Alamat       : Mertoyudan, Magelang\n",
            "Hobi         :\n",
            "1. Mendengarkan music\n",
            "2. Olahraga\n",
            "3. Menonton\n",
            "\n",
            "collection data types:  <class 'list'>\n",
            "collection data types:  <class 'dict'>\n"
          ]
        }
      ]
    }
  ]
}