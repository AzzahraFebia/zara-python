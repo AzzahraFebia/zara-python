{
  "nbformat": 4,
  "nbformat_minor": 0,
  "metadata": {
    "colab": {
      "provenance": [],
      "authorship_tag": "ABX9TyMprwoa97ApqIRVSrWbLznH",
      "include_colab_link": true
    },
    "kernelspec": {
      "name": "python3",
      "display_name": "Python 3"
    },
    "language_info": {
      "name": "python"
    }
  },
  "cells": [
    {
      "cell_type": "markdown",
      "metadata": {
        "id": "view-in-github",
        "colab_type": "text"
      },
      "source": [
        "<a href=\"https://colab.research.google.com/github/AzzahraFebia/zara-python/blob/main/week4.ipynb\" target=\"_parent\"><img src=\"https://colab.research.google.com/assets/colab-badge.svg\" alt=\"Open In Colab\"/></a>"
      ]
    },
    {
      "cell_type": "code",
      "source": [
        "# WEEKLY EXERCISE 1\n",
        "umur = int(input(\"masukkan umur \"))\n",
        "\n",
        "if umur >= 17:\n",
        "  print(\"Boleh membuat SIM\")\n",
        "else:\n",
        "  print(\"Tidak boleh membuat SIM\")\n",
        "\n",
        "print(\"selesai\")"
      ],
      "metadata": {
        "colab": {
          "base_uri": "https://localhost:8080/"
        },
        "id": "tFgmpb1tdQVc",
        "outputId": "526a3f97-8a21-4b1b-acc4-56632666aecf"
      },
      "execution_count": 2,
      "outputs": [
        {
          "output_type": "stream",
          "name": "stdout",
          "text": [
            "masukkan umur 14\n",
            "Tidak boleh membuat SIM\n",
            "selesai\n"
          ]
        }
      ]
    },
    {
      "cell_type": "code",
      "source": [
        "# WEEKLY EXERCISE 2\n",
        "nilai = float(input(\"masukkan nilai \"))\n",
        "\n",
        "if nilai >= 90:\n",
        "  print(\"grade A\")\n",
        "elif nilai >= 80:\n",
        "  print(\"grade B+\")\n",
        "elif nilai >= 70:\n",
        "  print(\"grade B\")\n",
        "elif nilai >= 60:\n",
        "  print(\"grade C+\")\n",
        "elif nilai >= 50:\n",
        "  print(\"grade C\")\n",
        "elif nilai >= 40:\n",
        "  print(\"grade D\")\n",
        "else:\n",
        "  print(\"grade E\")\n",
        "\n",
        "print(\"selesai\")"
      ],
      "metadata": {
        "colab": {
          "base_uri": "https://localhost:8080/"
        },
        "id": "_E7m5h_mfnLa",
        "outputId": "1878bd01-54f9-49f5-d6e7-4fe2fc943459"
      },
      "execution_count": 6,
      "outputs": [
        {
          "output_type": "stream",
          "name": "stdout",
          "text": [
            "masukkan nilai 65\n",
            "grade C+\n",
            "selesai\n"
          ]
        }
      ]
    },
    {
      "cell_type": "code",
      "source": [
        "# WEEKLY EXERCISE 3\n",
        "nilai = float(input(\"masukkan nilai \"))\n",
        "\n",
        "if nilai >= 80.00 and nilai <= 100:\n",
        "  print(\"A\")\n",
        "elif nilai >= 77.50 and nilai <= 79.99:\n",
        "  print(\"A-\")\n",
        "elif nilai >= 75.00 and nilai <= 77.49:\n",
        "  print(\"A/B\")\n",
        "elif nilai >= 72.50 and nilai <= 74.99:\n",
        "  print(\"B+\")\n",
        "elif nilai >= 70.00 and nilai <= 72.49:\n",
        "  print(\"B\")\n",
        "elif nilai >= 67.50 and nilai <= 69.99:\n",
        "  print(\"B-\")\n",
        "elif nilai >= 65.00 and nilai <= 67.49:\n",
        "  print(\"B/C\")\n",
        "elif nilai >= 62.50 and nilai <= 64.99:\n",
        "  print(\"C+\")\n",
        "elif nilai >= 60.00 and nilai <= 62.49:\n",
        "  print(\"C\")\n",
        "elif nilai >= 55.00 and nilai <= 59.99:\n",
        "  print(\"C-\")\n",
        "elif nilai >= 50.00 and nilai <= 54.99:\n",
        "  print(\"C/D\")\n",
        "elif nilai >= 45.00 and nilai <= 49.99:\n",
        "  print(\"D+\")\n",
        "elif nilai >= 40.00 and nilai <= 44.99:\n",
        "  print(\"D\")\n",
        "else:\n",
        "  print(\"E\")\n",
        "\n",
        "print(\"selesai\")"
      ],
      "metadata": {
        "colab": {
          "base_uri": "https://localhost:8080/"
        },
        "id": "ld3Ize1PhHC3",
        "outputId": "50b13fd1-550d-44b5-d3a7-2f17d53644f7"
      },
      "execution_count": 10,
      "outputs": [
        {
          "output_type": "stream",
          "name": "stdout",
          "text": [
            "masukkan nilai 39\n",
            "E\n",
            "selesai\n"
          ]
        }
      ]
    },
    {
      "cell_type": "code",
      "source": [],
      "metadata": {
        "id": "2j6EdXaflzEX"
      },
      "execution_count": null,
      "outputs": []
    }
  ]
}