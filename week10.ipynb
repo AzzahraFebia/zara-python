{
  "nbformat": 4,
  "nbformat_minor": 0,
  "metadata": {
    "colab": {
      "provenance": [],
      "authorship_tag": "ABX9TyMZwVAnr80GHnk5i50Tv+R3",
      "include_colab_link": true
    },
    "kernelspec": {
      "name": "python3",
      "display_name": "Python 3"
    },
    "language_info": {
      "name": "python"
    }
  },
  "cells": [
    {
      "cell_type": "markdown",
      "metadata": {
        "id": "view-in-github",
        "colab_type": "text"
      },
      "source": [
        "<a href=\"https://colab.research.google.com/github/AzzahraFebia/zara-python/blob/main/week10.ipynb\" target=\"_parent\"><img src=\"https://colab.research.google.com/assets/colab-badge.svg\" alt=\"Open In Colab\"/></a>"
      ]
    },
    {
      "cell_type": "code",
      "source": [
        "# WEEKLY EXERCISE 1\n",
        "# Kode program untuk menghitung nilai faktorial dari suatu bilangan dengan fungsi rekrusif\n",
        "\n",
        "def faktorial(n):\n",
        "  if n == 0:\n",
        "    return 1\n",
        "  else:\n",
        "    return n * faktorial(n-1)\n",
        "\n",
        "# Meminta user memasukkan suatu bilangan\n",
        "bilangan = int(input(\"Masukkan bilangan: \"))\n",
        "\n",
        "# Menentukan hasil\n",
        "hasilnya = faktorial(bilangan)\n",
        "\n",
        "# Mengecek jika bilangan tidak positif\n",
        "if bilangan < 0:\n",
        "  print(\"Faktorial hanya untuk bilangan positif!\")\n",
        "else:\n",
        "# Menampilkan hasil faktorial\n",
        "  print(\"Hasil faktorial dari\", bilangan, \"adalah\", hasilnya)\n"
      ],
      "metadata": {
        "colab": {
          "base_uri": "https://localhost:8080/"
        },
        "id": "tpNd0v2Vqub9",
        "outputId": "36179a54-9893-4556-8b64-f9198e61bd51"
      },
      "execution_count": 8,
      "outputs": [
        {
          "output_type": "stream",
          "name": "stdout",
          "text": [
            "Masukkan bilangan: 4\n",
            "Hasil faktorial dari 4 adalah 24\n"
          ]
        }
      ]
    },
    {
      "cell_type": "code",
      "source": [
        "# WEEKLY EXERCISE 2\n",
        "# Kode program kalkulator untuk menghitung luas bangun datar\n",
        "\n",
        "# Rumus luas bangun datar\n",
        " # Luas lingkaran\n",
        "def luas_lingkaran(jari_jari):\n",
        "    return 3.14 * (jari_jari ** 2)\n",
        " # Luas persegi\n",
        "def luas_persegi(sisi):\n",
        "    return sisi * sisi\n",
        " # Luas segitiga\n",
        "def luas_segitiga(alas, tinggi):\n",
        "    return (alas * tinggi) / 2\n",
        "\n",
        "# Pilihan bangun datar yang akan muncul pada layar/output\n",
        "while True:\n",
        "  print(\"Silahkan pilih bangun datar yang ingin dihitung luasnya: \")\n",
        "  print(\"1. Luas Lingkaran\")\n",
        "  print(\"2. Luas Persegi\")\n",
        "  print(\"3. Luas Segitiga\")\n",
        "  print(\"4. Selesai\")\n",
        "\n",
        "# User memilih bangun datar\n",
        "  pilihan = input(\"Pilih bangun datar (1-4): \")\n",
        "\n",
        "\n",
        "# Perhitungan untuk masing-masing bangun datar\n",
        "  if pilihan == '1':\n",
        "      jari_jari = float(input(\"Masukkan jari-jari lingkaran: \"))\n",
        "      luas = luas_lingkaran(jari_jari)\n",
        "      print(\"Luas lingkaran =\", luas)\n",
        "      print()\n",
        "  elif pilihan == '2':\n",
        "      sisi = float(input(\"Masukkan panjang sisi persegi: \"))\n",
        "      luas = luas_persegi(sisi)\n",
        "      print(\"Luas persegi =\", luas)\n",
        "      print()\n",
        "  elif pilihan == '3':\n",
        "      alas = float(input(\"Masukkan panjang alas segitiga: \"))\n",
        "      tinggi = float(input(\"Masukkan tinggi segitiga: \"))\n",
        "      luas = luas_segitiga(alas, tinggi)\n",
        "      print(\"Luas segitiga =\", luas)\n",
        "      print()\n",
        "  elif pilihan == '4':\n",
        "      print(\"Program selesai.\")\n",
        "      break\n",
        "  else:\n",
        "      print(\"Invalid! Silakan coba lagi.\")\n"
      ],
      "metadata": {
        "colab": {
          "base_uri": "https://localhost:8080/"
        },
        "id": "gOwu84e_nQwV",
        "outputId": "42e34acb-1f20-49a4-fec3-ebd5bcab5019"
      },
      "execution_count": 40,
      "outputs": [
        {
          "output_type": "stream",
          "name": "stdout",
          "text": [
            "Silahkan pilih bangun datar yang ingin dihitung luasnya: \n",
            "1. Luas Lingkaran\n",
            "2. Luas Persegi\n",
            "3. Luas Segitiga\n",
            "4. Selesai\n",
            "Pilih bangun datar (1-4): 1\n",
            "Masukkan jari-jari lingkaran: 2\n",
            "Luas lingkaran = 12.56\n",
            "\n",
            "Silahkan pilih bangun datar yang ingin dihitung luasnya: \n",
            "1. Luas Lingkaran\n",
            "2. Luas Persegi\n",
            "3. Luas Segitiga\n",
            "4. Selesai\n",
            "Pilih bangun datar (1-4): 2\n",
            "Masukkan panjang sisi persegi: 4\n",
            "Luas persegi = 16.0\n",
            "\n",
            "Silahkan pilih bangun datar yang ingin dihitung luasnya: \n",
            "1. Luas Lingkaran\n",
            "2. Luas Persegi\n",
            "3. Luas Segitiga\n",
            "4. Selesai\n",
            "Pilih bangun datar (1-4): 3\n",
            "Masukkan panjang alas segitiga: 4\n",
            "Masukkan tinggi segitiga: 5\n",
            "Luas segitiga = 10.0\n",
            "\n",
            "Silahkan pilih bangun datar yang ingin dihitung luasnya: \n",
            "1. Luas Lingkaran\n",
            "2. Luas Persegi\n",
            "3. Luas Segitiga\n",
            "4. Selesai\n",
            "Pilih bangun datar (1-4): 4\n",
            "Program selesai.\n"
          ]
        }
      ]
    },
    {
      "cell_type": "code",
      "source": [
        "\n"
      ],
      "metadata": {
        "id": "T_Degv43uHpq"
      },
      "execution_count": 10,
      "outputs": []
    }
  ]
}