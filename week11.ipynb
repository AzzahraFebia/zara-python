{
  "nbformat": 4,
  "nbformat_minor": 0,
  "metadata": {
    "colab": {
      "provenance": [],
      "authorship_tag": "ABX9TyN4kQIEOw68IhAawFnPT8JS",
      "include_colab_link": true
    },
    "kernelspec": {
      "name": "python3",
      "display_name": "Python 3"
    },
    "language_info": {
      "name": "python"
    }
  },
  "cells": [
    {
      "cell_type": "markdown",
      "metadata": {
        "id": "view-in-github",
        "colab_type": "text"
      },
      "source": [
        "<a href=\"https://colab.research.google.com/github/AzzahraFebia/zara-python/blob/main/week11.ipynb\" target=\"_parent\"><img src=\"https://colab.research.google.com/assets/colab-badge.svg\" alt=\"Open In Colab\"/></a>"
      ]
    },
    {
      "cell_type": "code",
      "source": [
        "# WEEKLY EXERCISE 1\n",
        "# Menghitung luas bangun datar\n",
        "import matematika\n",
        "\n",
        "# Fungsi luas lingkaran\n",
        "# Misalkan jari jari = 8\n",
        "jari_jari = 8\n",
        "Llingkaran = matematika.luas_lingkaran(jari_jari)\n",
        "print(f\"Luas lingkaran dengan jari-jari {jari_jari} adalah {Llingkaran}\")\n",
        "\n",
        "# Fungsi luas persegi\n",
        "# Misalkan panjang sisi 5\n",
        "sisi = 5\n",
        "Lpersegi = matematika.luas_persegi(sisi)\n",
        "print(f\"Luas persegi dengan panjang sisi {sisi} adalah {Lpersegi}\")\n"
      ],
      "metadata": {
        "id": "x_ayTUcAxZNH",
        "colab": {
          "base_uri": "https://localhost:8080/"
        },
        "outputId": "d1221691-2fda-4adc-84a3-67aa8264f710"
      },
      "execution_count": 3,
      "outputs": [
        {
          "output_type": "stream",
          "name": "stdout",
          "text": [
            "Luas lingkaran dengan jari-jari 8 adalah 200.96\n",
            "Luas persegi dengan panjang sisi 5 adalah 25\n"
          ]
        }
      ]
    },
    {
      "cell_type": "code",
      "source": [
        "# WEEKLY EXERCISE 2\n",
        "# Mencoba beberapa fungsi dalam module math pada python\n",
        "import math\n",
        "\n",
        "# 1. math.ceil = membulatkan bilangan ke atas\n",
        "x = 15.5\n",
        "print(f\"jika {x} dibulatkan ke atas, maka menjadi {math.ceil(x)}\")\n",
        "print()\n",
        "\n",
        "# 2. math.floor = membulatkan bilangan ke bawah\n",
        "x = 12.7\n",
        "print(f\"jika {x} dibulatkan ke bawah, maka menjadi {math.floor(x)}\")\n",
        "print()\n",
        "\n",
        "# 3. math.pow = menghitung pangkat\n",
        "x = 2\n",
        "y = 3\n",
        "print(f\"hasil {x} pangkat {y} = {math.pow(x, y)}\")\n",
        "print()\n",
        "\n",
        "# 4. math.gcd = menghitung faktor persekutuan terbesar (FPB)\n",
        "x = 24\n",
        "y = 36\n",
        "print(f\"FPB dari {x} dan {y} adalah {math.gcd(x, y)}\")\n",
        "print()\n",
        "\n",
        "# 5. math.factorial = menghitung faktorial seuatu bilangan\n",
        "x = 5\n",
        "print(f\"hasil faktorial dari {x} adalah {math.factorial(x)}\")"
      ],
      "metadata": {
        "colab": {
          "base_uri": "https://localhost:8080/"
        },
        "id": "SCCcZC1M7Wvf",
        "outputId": "94cf6e49-9483-46db-bc5f-15b97e87b1bd"
      },
      "execution_count": 20,
      "outputs": [
        {
          "output_type": "stream",
          "name": "stdout",
          "text": [
            "jika 15.5 dibulatkan ke atas, maka menjadi 16\n",
            "\n",
            "jika 12.7 dibulatkan ke bawah, maka menjadi 12\n",
            "\n",
            "hasil 2 pangkat 3 = 8.0\n",
            "\n",
            "FPB dari 24 dan 36 adalah 12\n",
            "\n",
            "hasil faktorial dari 5 adalah 120\n"
          ]
        }
      ]
    },
    {
      "cell_type": "code",
      "source": [
        "\n"
      ],
      "metadata": {
        "id": "M_6cOHUKbn7x"
      },
      "execution_count": null,
      "outputs": []
    },
    {
      "cell_type": "code",
      "source": [],
      "metadata": {
        "id": "FIz5Sh31oQ6C"
      },
      "execution_count": null,
      "outputs": []
    }
  ]
}