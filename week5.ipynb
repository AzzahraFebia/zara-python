{
  "nbformat": 4,
  "nbformat_minor": 0,
  "metadata": {
    "colab": {
      "provenance": [],
      "authorship_tag": "ABX9TyNYw0imhQntKfMEuEwKUFoS",
      "include_colab_link": true
    },
    "kernelspec": {
      "name": "python3",
      "display_name": "Python 3"
    },
    "language_info": {
      "name": "python"
    }
  },
  "cells": [
    {
      "cell_type": "markdown",
      "metadata": {
        "id": "view-in-github",
        "colab_type": "text"
      },
      "source": [
        "<a href=\"https://colab.research.google.com/github/AzzahraFebia/zara-python/blob/main/week5.ipynb\" target=\"_parent\"><img src=\"https://colab.research.google.com/assets/colab-badge.svg\" alt=\"Open In Colab\"/></a>"
      ]
    },
    {
      "cell_type": "code",
      "source": [
        "# WEEKLY EXERCISE 1\n",
        "# masukkan tahun\n",
        "tahun = int(input(\"masukkan tahun \"))\n",
        "\n",
        "# coba tahun\n",
        "if tahun % 4 == 0:\n",
        "  print(\"Merupakan tahun kabisat\")\n",
        "else:\n",
        "  print(\"Bukan merupakan tahun kabisat\")"
      ],
      "metadata": {
        "colab": {
          "base_uri": "https://localhost:8080/"
        },
        "id": "ezxKtoKBcq9M",
        "outputId": "e640af78-bd06-4583-ff6f-b9355091eea9"
      },
      "execution_count": 1,
      "outputs": [
        {
          "output_type": "stream",
          "name": "stdout",
          "text": [
            "masukkan tahun 1951\n",
            "Bukan merupakan tahun kabisat\n"
          ]
        }
      ]
    },
    {
      "cell_type": "code",
      "execution_count": 4,
      "metadata": {
        "colab": {
          "base_uri": "https://localhost:8080/"
        },
        "id": "Y7GBbTtxVIeg",
        "outputId": "bdb10e4f-b888-4a39-a8e1-09fdc559ee36"
      },
      "outputs": [
        {
          "output_type": "stream",
          "name": "stdout",
          "text": [
            "masukkan angka pertama 20\n",
            "masukkan angka kedua 2.4\n",
            "masukkan angka ketiga 50\n",
            "angka pertama: 20.0\n",
            "angka kedua: 2.4\n",
            "angka ketiga: 50.0\n",
            "angka terbesar: 50.0\n"
          ]
        }
      ],
      "source": [
        "# WEEKLY EXERCISE 2\n",
        "# masukkan angka\n",
        "angka1 = float(input('masukkan angka pertama '))\n",
        "angka2 = float(input('masukkan angka kedua '))\n",
        "angka3 = float(input('masukkan angka ketiga '))\n",
        "\n",
        "# mengecek angka terbesar\n",
        "terbesar = max(angka1, angka2, angka3)\n",
        "\n",
        "# menampilkan hasil\n",
        "print(f\"angka pertama: {angka1}\")\n",
        "print(f\"angka kedua: {angka2}\")\n",
        "print(f\"angka ketiga: {angka3}\")\n",
        "print(f\"angka terbesar: {terbesar}\")"
      ]
    },
    {
      "cell_type": "code",
      "source": [
        "# WEEKLY EXERCISE 3\n",
        "# menentukan tipe konsumen dan total belanja\n",
        "tipe_konsumen = input(\"apakah member? (ya/tidak): \")\n",
        "total_belanja = float(input(\"total belanja: \"))\n",
        "\n",
        "# menentukan diskon\n",
        "diskon_persentase = 0\n",
        "\n",
        "if total_belanja > 100000:\n",
        "    diskon_persentase = 3\n",
        "    if total_belanja > 200000:\n",
        "      diskon_persentase = 4\n",
        "\n",
        "# tambahan diskon untuk member\n",
        "if tipe_konsumen.lower() == \"ya\":\n",
        "        diskon_persentase += 2\n",
        "\n",
        "# menampilkan hasil\n",
        "jumlah_diskon = (diskon_persentase / 100) * total_belanja\n",
        "print(f\"total belanja: Rp {total_belanja:.2f}\")\n",
        "print(f\"Persentase Diskon: {diskon_persentase}%\")\n",
        "print(f\"Jumlah Diskon: Rp {jumlah_diskon:.2f}\")\n",
        "print(f\"Total Pembayaran: Rp {jumlah_diskon:.2f}\")"
      ],
      "metadata": {
        "colab": {
          "base_uri": "https://localhost:8080/"
        },
        "id": "hq14jnyM5ASL",
        "outputId": "7f73a84f-5bec-463f-d05a-6ca6413cc2d3"
      },
      "execution_count": 5,
      "outputs": [
        {
          "output_type": "stream",
          "name": "stdout",
          "text": [
            "apakah member? (ya/tidak): ya\n",
            "total belanja: 266000\n",
            "total belanja: Rp 266000.00\n",
            "Persentase Diskon: 6%\n",
            "Jumlah Diskon: Rp 15960.00\n",
            "Total Pembayaran: Rp 15960.00\n"
          ]
        }
      ]
    },
    {
      "cell_type": "code",
      "source": [
        "# WEEKLY EXERCISE 4\n",
        "\n",
        "# Masukkan username, email, dan password\n",
        "username = input(\"username: \")\n",
        "email = input(\"email: \")\n",
        "password = input(\"password: \")\n",
        "\n",
        "# Masukkan input\n",
        "if username == \"\":\n",
        "  print(\"Error: username wajib di isi.\\n\")\n",
        "elif \"@\" not in email:\n",
        "  print(\"Error: email harus terdapat simbol '@'.\\n\")\n",
        "elif len(password) <= 8:\n",
        "  print(\"Error: password harus lebih dari 8 karakter.\\n\")\n",
        "else:\n",
        "  print(\"pembuatan user baru telah berhasil!\")\n",
        "\n",
        "# Menampilkan Hasil\n",
        "  print(f\"username: {username}\")\n",
        "  print(f\"email: {email}\")\n",
        "  print(\"password: (password disembunyikan)\")\n"
      ],
      "metadata": {
        "id": "Ec5Bc_T7p4Ry",
        "colab": {
          "base_uri": "https://localhost:8080/"
        },
        "outputId": "cfe041b4-f00d-42b1-e4cb-1139bc51e296"
      },
      "execution_count": 14,
      "outputs": [
        {
          "output_type": "stream",
          "name": "stdout",
          "text": [
            "username: zaraaaa\n",
            "email: zaraaa@gmail.com\n",
            "password: 12345678910\n",
            "pembuatan user baru telah berhasil!\n",
            "username: zaraaaa\n",
            "email: zaraaa@gmail.com\n",
            "password: (password disembunyikan)\n"
          ]
        }
      ]
    }
  ]
}