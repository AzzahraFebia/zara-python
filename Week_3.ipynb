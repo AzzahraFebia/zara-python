{
  "nbformat": 4,
  "nbformat_minor": 0,
  "metadata": {
    "colab": {
      "provenance": [],
      "authorship_tag": "ABX9TyMckhokAx5aY1hb1Kk2QgEn",
      "include_colab_link": true
    },
    "kernelspec": {
      "name": "python3",
      "display_name": "Python 3"
    },
    "language_info": {
      "name": "python"
    }
  },
  "cells": [
    {
      "cell_type": "markdown",
      "metadata": {
        "id": "view-in-github",
        "colab_type": "text"
      },
      "source": [
        "<a href=\"https://colab.research.google.com/github/AzzahraFebia/zara-python/blob/main/Week_3.ipynb\" target=\"_parent\"><img src=\"https://colab.research.google.com/assets/colab-badge.svg\" alt=\"Open In Colab\"/></a>"
      ]
    },
    {
      "cell_type": "code",
      "source": [
        "print(\"Selamat datang di Toko Maju Jaya\")\n",
        "print(\"Senin, 4 September 2023 13.05\\n\")\n",
        "print(\"DAFTAR BELANJA\")\n",
        "item1 = 'sabun'\n",
        "item2 = 'shampo'\n",
        "item3 = 'mie instan'\n",
        "item4 = 'detergen'\n",
        "harga1 = 10000\n",
        "harga2 = 15000\n",
        "harga3 = 5000\n",
        "harga4 = 17500\n",
        "\n",
        "total = harga1+harga2+harga3+harga4\n",
        "print(f\"{item1:<11} = Rp {harga1:>6}\")\n",
        "print(f\"{item2:<11} = Rp {harga2:>6}\")\n",
        "print(f\"{item3:<7}  = Rp {harga3:>5}\")\n",
        "print(f\"{item4:<11} = Rp {harga4:>6}\")\n",
        "\n",
        "print(\"\")\n",
        "print(\"Total = Rp\", harga1+harga2+harga3+harga4)"
      ],
      "metadata": {
        "colab": {
          "base_uri": "https://localhost:8080/"
        },
        "id": "u5Lfk_qmcQjV",
        "outputId": "bf427991-882f-4a6f-ff37-dfe92dc15777"
      },
      "execution_count": 37,
      "outputs": [
        {
          "output_type": "stream",
          "name": "stdout",
          "text": [
            "Selamat datang di Toko Maju Jaya\n",
            "Senin, 4 September 2023 13.05\n",
            "\n",
            "DAFTAR BELANJA\n",
            "sabun       = Rp  10000\n",
            "shampo      = Rp  15000\n",
            "mie instan  = Rp  5000\n",
            "detergen    = Rp  17500\n",
            "\n",
            "Total = Rp 47500\n"
          ]
        }
      ]
    },
    {
      "cell_type": "code",
      "source": [
        "with open('Kuitansi.txt', 'w') as writefile:\n",
        "        writefile.write(\"Selamat Datang di Toko Maju Jaya\\n\")\n",
        "        writefile.write(\"\\n\")\n",
        "        writefile.write(\"Kuitansi - 4 Septermber 2023\\n\")\n",
        "        writefile.write(\"\\n\")\n",
        "        writefile.write(item1 + \" = rp \" + str(harga1) + \"\\n\")\n",
        "        writefile.write(item2 + \" = rp \" + str(harga2) + \"\\n\")\n",
        "        writefile.write(item3 + \" = rp \" + str(harga3) + \"\\n\")\n",
        "        writefile.write(item4 + \" = rp \" + str(harga4) + \"\\n\")\n",
        "        writefile.write(\"\\n\")\n",
        "\n",
        "    writefile.write(\"Total Belanja = Rp \" + str(harga1 + harga2 + harga3 + harga4) + \"\\n\")"
      ],
      "metadata": {
        "id": "j1kLS2IadJax"
      },
      "execution_count": 10,
      "outputs": []
    },
    {
      "cell_type": "code",
      "source": [
        "with open('biodata.txt',\"r\") as BiodataFile:\n",
        "      FileContent = BiodataFile.read()\n",
        "      print(FileContent)"
      ],
      "metadata": {
        "id": "7t6l46KwmrJu",
        "colab": {
          "base_uri": "https://localhost:8080/"
        },
        "outputId": "2bcf731e-5025-40f7-c80b-b5a0ff2d2387"
      },
      "execution_count": 38,
      "outputs": [
        {
          "output_type": "stream",
          "name": "stdout",
          "text": [
            "Nama          : Azzahra Febia Mufida\n",
            "Program Studi : S1 Teknologi Informasi\n",
            "NPM           : 2420506023\n",
            "Alamat\t      : Jl.Bali no.8, Panca Arga 3, Mertoyudan\n",
            "Hobi          : Mendengarkan musik\n",
            "Email         : azzahrafebiamufida@gmail.com\n"
          ]
        }
      ]
    },
    {
      "cell_type": "code",
      "source": [
        "with open('biodata.txt', 'r') as file1:\n",
        "  FileasList = file1.readlines()\n",
        "  print(FileasList[0])\n",
        "  print(FileasList[1])\n",
        "  print(FileasList[5])"
      ],
      "metadata": {
        "colab": {
          "base_uri": "https://localhost:8080/"
        },
        "id": "iR-WU5akNnxq",
        "outputId": "5bbe79ac-eb95-46db-99fa-7b8dcd150b43"
      },
      "execution_count": 39,
      "outputs": [
        {
          "output_type": "stream",
          "name": "stdout",
          "text": [
            "Nama          : Azzahra Febia Mufida\n",
            "\n",
            "Program Studi : S1 Teknologi Informasi\n",
            "\n",
            "Email         : azzahrafebiamufida@gmail.com\n"
          ]
        }
      ]
    },
    {
      "cell_type": "code",
      "source": [
        "with open('biodata2.txt', 'w') as writefile:\n",
        "  writefile.write(\"Nama           : Azzahra Febia Mufida\\n\")\n",
        "  writefile.write(\"NPM            : 2420506023\\n\")\n",
        "  writefile.write(\"Program Studi  : S1 Teknologi Informasi\\n\")\n",
        "  writefile.write(\"Alamat         : Jl.Bali no.8, Panca Arga 3, Mertoyudan\\n\")\n"
      ],
      "metadata": {
        "id": "PO1LGfJQSYqR"
      },
      "execution_count": 42,
      "outputs": []
    },
    {
      "cell_type": "code",
      "source": [
        "with open('biodata2.txt', 'r') as writefile:\n",
        "  print(writefile.read())"
      ],
      "metadata": {
        "colab": {
          "base_uri": "https://localhost:8080/"
        },
        "id": "RIGDVR7xV2Pg",
        "outputId": "386a62ee-0342-4338-c434-0cef1c9dd2b6"
      },
      "execution_count": 41,
      "outputs": [
        {
          "output_type": "stream",
          "name": "stdout",
          "text": [
            "\n"
          ]
        }
      ]
    },
    {
      "cell_type": "code",
      "source": [],
      "metadata": {
        "id": "MR_kqj6XgLQR"
      },
      "execution_count": null,
      "outputs": []
    }
  ]
}