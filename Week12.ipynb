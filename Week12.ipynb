{
  "nbformat": 4,
  "nbformat_minor": 0,
  "metadata": {
    "colab": {
      "provenance": [],
      "authorship_tag": "ABX9TyPCLgVsefXJ4SInCxfBKXcr",
      "include_colab_link": true
    },
    "kernelspec": {
      "name": "python3",
      "display_name": "Python 3"
    },
    "language_info": {
      "name": "python"
    }
  },
  "cells": [
    {
      "cell_type": "markdown",
      "metadata": {
        "id": "view-in-github",
        "colab_type": "text"
      },
      "source": [
        "<a href=\"https://colab.research.google.com/github/AzzahraFebia/zara-python/blob/main/Week12.ipynb\" target=\"_parent\"><img src=\"https://colab.research.google.com/assets/colab-badge.svg\" alt=\"Open In Colab\"/></a>"
      ]
    },
    {
      "cell_type": "code",
      "source": [
        "# WEEKLY EXERCISE 1\n",
        "# Menambahkan Exception Handling pada program perhitungan bangun datar\n",
        "\n",
        "import math\n",
        "\n",
        "# Menuliskan rumus dan menambahkan exception handling\n",
        "# Lingkaran\n",
        "def luas_lingkaran(jari_jari):\n",
        "    try:\n",
        "        if not jari_jari:\n",
        "            raise ValueError(\"Input tidak boleh kosong.\")\n",
        "        jari_jari = float(jari_jari)\n",
        "        return math.pi * (jari_jari ** 2)\n",
        "    except ValueError as e:\n",
        "      if str(e) == \"Input tidak boleh kosong.\":\n",
        "        return \"Error: Input tidak boleh kosong.\"\n",
        "      else:\n",
        "        return \"Error: Hanya boleh memasukkan angka.\"\n",
        "\n",
        "# Persegi\n",
        "def luas_persegi(sisi):\n",
        "    try:\n",
        "        if not sisi:\n",
        "            raise ValueError(\"Input tidak boleh kosong.\")\n",
        "        sisi = float(sisi)\n",
        "        return sisi ** 2\n",
        "    except ValueError as e:\n",
        "      if str(e) == \"Input tidak boleh kosong.\":\n",
        "        return \"Error: Input tidak boleh kosong.\"\n",
        "      else:\n",
        "        return \"Error: Hanya boleh memasukkan angka.\"\n",
        "\n",
        "# Segitiga\n",
        "def luas_segitiga(alas, tinggi):\n",
        "    try:\n",
        "        if not alas or not tinggi:\n",
        "            raise ValueError(\"Tidak boleh kosong.\")\n",
        "        alas = float(alas)\n",
        "        tinggi = float(tinggi)\n",
        "        return (alas * tinggi) / 2\n",
        "    except ValueError as e:\n",
        "        if str(e) == \"Tidak boleh kosong.\":\n",
        "            return \"Error: Input tidak boleh kosong.\"\n",
        "        else:\n",
        "            return \"Error: Hanya boleh memasukkan angka.\"\n",
        "\n",
        "\n",
        "# Pilihan bangun datar yang akan muncul pada layar/output\n",
        "while True:\n",
        "  print(\"Silahkan pilih bangun datar yang ingin dihitung luasnya: \")\n",
        "  print(\"1. Luas Lingkaran\")\n",
        "  print(\"2. Luas Persegi\")\n",
        "  print(\"3. Luas Segitiga\")\n",
        "  print(\"4. Selesai\")\n",
        "\n",
        "\n",
        "# User memilih bangun datar yang akan dihitung\n",
        "  pilihan = input(\"Pilih bangun datar (1-4): \")\n",
        "\n",
        "# Perhitungan untuk masing-masing bangun datar\n",
        "  if pilihan == '1':\n",
        "      jari_jari = input(\"Masukkan jari-jari lingkaran: \")\n",
        "      luas = luas_lingkaran(jari_jari)\n",
        "      print(\"Luas lingkaran =\", luas)\n",
        "      print()\n",
        "  elif pilihan == '2':\n",
        "      sisi = input(\"Masukkan panjang sisi persegi: \")\n",
        "      luas = luas_persegi(sisi)\n",
        "      print(\"Luas persegi =\", luas)\n",
        "      print()\n",
        "  elif pilihan == '3':\n",
        "      alas = input(\"Masukkan panjang alas segitiga: \")\n",
        "      tinggi = input(\"Masukkan tinggi segitiga: \")\n",
        "      luas = luas_segitiga(alas, tinggi)\n",
        "      print(\"Luas segitiga =\", luas)\n",
        "      print()\n",
        "  elif pilihan == '4':\n",
        "      print(\"Program selesai.\")\n",
        "      break\n",
        "  else:\n",
        "    print(\"Invalid! Silakan coba lagi.\")\n",
        "    print()"
      ],
      "metadata": {
        "colab": {
          "base_uri": "https://localhost:8080/"
        },
        "outputId": "8cf2ba33-808a-4436-ff7e-7846d3f7fd1f",
        "id": "f3N_unCd8s42"
      },
      "execution_count": 45,
      "outputs": [
        {
          "output_type": "stream",
          "name": "stdout",
          "text": [
            "Silahkan pilih bangun datar yang ingin dihitung luasnya: \n",
            "1. Luas Lingkaran\n",
            "2. Luas Persegi\n",
            "3. Luas Segitiga\n",
            "4. Selesai\n",
            "Pilih bangun datar (1-4): 2\n",
            "Masukkan panjang sisi persegi: zara\n",
            "Luas persegi = Error: Hanya boleh memasukkan angka.\n",
            "\n",
            "Silahkan pilih bangun datar yang ingin dihitung luasnya: \n",
            "1. Luas Lingkaran\n",
            "2. Luas Persegi\n",
            "3. Luas Segitiga\n",
            "4. Selesai\n",
            "Pilih bangun datar (1-4): 2\n",
            "Masukkan panjang sisi persegi: \n",
            "Luas persegi = Error: Input tidak boleh kosong.\n",
            "\n",
            "Silahkan pilih bangun datar yang ingin dihitung luasnya: \n",
            "1. Luas Lingkaran\n",
            "2. Luas Persegi\n",
            "3. Luas Segitiga\n",
            "4. Selesai\n",
            "Pilih bangun datar (1-4): 2\n",
            "Masukkan panjang sisi persegi: 4\n",
            "Luas persegi = 16.0\n",
            "\n",
            "Silahkan pilih bangun datar yang ingin dihitung luasnya: \n",
            "1. Luas Lingkaran\n",
            "2. Luas Persegi\n",
            "3. Luas Segitiga\n",
            "4. Selesai\n",
            "Pilih bangun datar (1-4): 4\n",
            "Program selesai.\n"
          ]
        }
      ]
    },
    {
      "cell_type": "code",
      "source": [
        "# WEEKLY EXERCISE 2\n",
        "# Memberi Exception Handling pada program saat UTS\n",
        "\n",
        "# Meminta user memasukkan NPM\n",
        "try:\n",
        "    NPM = input(\"Masukkan NPM Anda: \")\n",
        "    if not NPM:\n",
        "        raise ValueError(\"NPM tidak boleh kosong, ya!\")\n",
        "    if not NPM.isdigit():\n",
        "        raise ValueError(\"NPM harus angka, ya!\")\n",
        "\n",
        "    # Menentukan angka genap dan ganjil\n",
        "    bilangan_genap = 0\n",
        "    bilangan_ganjil = 0\n",
        "    for angka in NPM:\n",
        "        if int(angka) % 2 == 0:\n",
        "            bilangan_genap += 1\n",
        "        else:\n",
        "            bilangan_ganjil += 1\n",
        "    # Menampilkan hasil\n",
        "    print(f\"Jumlah bilangan genap  : {bilangan_genap}\")\n",
        "    print(f\"Jumlah bilangan ganjil : {bilangan_ganjil}\")\n",
        "\n",
        "except ValueError as e:\n",
        "    print(f\"Error: {e}\")\n",
        "\n"
      ],
      "metadata": {
        "colab": {
          "base_uri": "https://localhost:8080/"
        },
        "id": "-GTRcrRJWFp4",
        "outputId": "47ee5e15-71fb-43cc-ea75-e7552255ca8a"
      },
      "execution_count": 62,
      "outputs": [
        {
          "output_type": "stream",
          "name": "stdout",
          "text": [
            "Masukkan NPM Anda: 2420506023\n",
            "Jumlah bilangan genap  : 8\n",
            "Jumlah bilangan ganjil : 2\n"
          ]
        }
      ]
    },
    {
      "cell_type": "code",
      "source": [],
      "metadata": {
        "id": "Aff1j99vPA3i"
      },
      "execution_count": null,
      "outputs": []
    }
  ]
}