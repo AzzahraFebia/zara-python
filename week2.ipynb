{
  "nbformat": 4,
  "nbformat_minor": 0,
  "metadata": {
    "colab": {
      "provenance": [],
      "authorship_tag": "ABX9TyNEyq29l4eWuh1etvQgqqeQ",
      "include_colab_link": true
    },
    "kernelspec": {
      "name": "python3",
      "display_name": "Python 3"
    },
    "language_info": {
      "name": "python"
    }
  },
  "cells": [
    {
      "cell_type": "markdown",
      "metadata": {
        "id": "view-in-github",
        "colab_type": "text"
      },
      "source": [
        "<a href=\"https://colab.research.google.com/github/AzzahraFebia/zara-python/blob/main/week2.ipynb\" target=\"_parent\"><img src=\"https://colab.research.google.com/assets/colab-badge.svg\" alt=\"Open In Colab\"/></a>"
      ]
    },
    {
      "cell_type": "code",
      "source": [
        "# String\n",
        "\n",
        "#print(\"Hello, Python 102!\")\n",
        "#print(\"Hello, Python 101!\")\n",
        "\n",
        "\"Hello, Python 102!\"\n",
        "#\"Hello, Python 101!\""
      ],
      "metadata": {
        "colab": {
          "base_uri": "https://localhost:8080/",
          "height": 35
        },
        "id": "6vMbVP4AhKOV",
        "outputId": "d44e60fc-4f2a-4771-82e7-724e45e66196"
      },
      "execution_count": null,
      "outputs": [
        {
          "output_type": "execute_result",
          "data": {
            "text/plain": [
              "'Hello, Python 102!'"
            ],
            "application/vnd.google.colaboratory.intrinsic+json": {
              "type": "string"
            }
          },
          "metadata": {},
          "execution_count": 4
        }
      ]
    },
    {
      "cell_type": "code",
      "source": [
        "# weekly exercise 1\n",
        "panjang = 20.5\n",
        "lebar= 25\n",
        "tinggi = 10\n",
        "\n",
        "keliling = 2 *( panjang + lebar )\n",
        "luas = panjang*lebar\n",
        "volume = panjang*lebar*tinggi\n",
        "\n",
        "print (\"panjang = \" , panjang)\n",
        "print (\"lebar = \" , lebar)\n",
        "print (\"tinggi =\" , tinggi)\n",
        "print (\"keliling =\" , keliling)\n",
        "print (\"luas =\" , luas)\n",
        "print (\"volume =\" , volume)"
      ],
      "metadata": {
        "colab": {
          "base_uri": "https://localhost:8080/"
        },
        "id": "oqI8UswLj5X0",
        "outputId": "07884240-aa1c-4275-d786-fafb38f3b5bc"
      },
      "execution_count": 21,
      "outputs": [
        {
          "output_type": "stream",
          "name": "stdout",
          "text": [
            "panjang =  20.5\n",
            "lebar =  25\n",
            "tinggi = 10\n",
            "keliling = 91.0\n",
            "luas = 512.5\n",
            "volume = 5125.0\n"
          ]
        }
      ]
    },
    {
      "cell_type": "code",
      "source": [
        "# weekly exercise 2\n",
        "nilairataratashafira=((85+75)/2)\n",
        "print(nilairataratashafira)"
      ],
      "metadata": {
        "colab": {
          "base_uri": "https://localhost:8080/"
        },
        "id": "BVbtQ40__11v",
        "outputId": "88d0e2f5-b9ec-48c4-8745-0ed7620b65cf"
      },
      "execution_count": 2,
      "outputs": [
        {
          "output_type": "stream",
          "name": "stdout",
          "text": [
            "80.0\n"
          ]
        }
      ]
    },
    {
      "cell_type": "code",
      "source": [
        "jumlahnilaihanifdanandi=(75+90+70+75)\n",
        "print(jumlahnilaihanifdanandi)"
      ],
      "metadata": {
        "colab": {
          "base_uri": "https://localhost:8080/"
        },
        "id": "urJ9tElNJ92-",
        "outputId": "222ecbaa-0326-4688-a5a4-bc8792d842c6"
      },
      "execution_count": 3,
      "outputs": [
        {
          "output_type": "stream",
          "name": "stdout",
          "text": [
            "310\n"
          ]
        }
      ]
    },
    {
      "cell_type": "code",
      "source": [
        "# data mahasiswa\n",
        "data={'nama':['Widya','Dhanar','Hikma','Nedia'],\n",
        "      'kalkulus 1':[85, 85, 80, 95] ,\n",
        "      'metode statistika':[85, 85, 75, 80]\n",
        "}\n",
        "# menghitung rata-rata nilai kalkulus 1\n",
        "rata_rata_kalkulus = sum(data['kalkulus 1']) / len(data['kalkulus 1'])\n",
        "# menghitung rata-rata metode statistika\n",
        "rata_rata_statistika = sum(data['metode statistika']) / len(data['metode statistika'])\n",
        "# menampilkan hasil\n",
        "print(f\"rata-rata nilai kalkulus 1: {rata_rata_kalkulus}\")\n",
        "print(f\"rata-rata nilai metode statistika: {rata_rata_statistika}\")"
      ],
      "metadata": {
        "colab": {
          "base_uri": "https://localhost:8080/"
        },
        "id": "BQpn2n9yLIPH",
        "outputId": "e5a9248e-006d-4ad7-9796-9cedc2aa203b"
      },
      "execution_count": 5,
      "outputs": [
        {
          "output_type": "stream",
          "name": "stdout",
          "text": [
            "rata-rata nilai kalkulus 1: 86.25\n",
            "rata-rata nilai metode statistika: 81.25\n"
          ]
        }
      ]
    },
    {
      "cell_type": "code",
      "source": [],
      "metadata": {
        "id": "9KnWxQE3_oTR"
      },
      "execution_count": null,
      "outputs": []
    },
    {
      "cell_type": "code",
      "source": [
        "rataratanilaikalkulus=((85+80+75+95+85+75+70+85+80)/9)\n",
        "print(rataratanilaikalkulus)"
      ],
      "metadata": {
        "colab": {
          "base_uri": "https://localhost:8080/"
        },
        "id": "lVQ5pq6TMqDV",
        "outputId": "f8972133-7714-4dc4-aee6-4b7c98801c9c"
      },
      "execution_count": 1,
      "outputs": [
        {
          "output_type": "stream",
          "name": "stdout",
          "text": [
            "81.11111111111111\n"
          ]
        }
      ]
    },
    {
      "cell_type": "code",
      "source": [
        "rataratanilaistatistika=((75+90+80+80+85+90+75+85+75)/9)\n",
        "print(rataratanilaistatistika)"
      ],
      "metadata": {
        "colab": {
          "base_uri": "https://localhost:8080/"
        },
        "id": "dNhMF4ndjiuS",
        "outputId": "0c9a2ea9-8584-4a01-fd65-33f1c1a34d5e"
      },
      "execution_count": 2,
      "outputs": [
        {
          "output_type": "stream",
          "name": "stdout",
          "text": [
            "81.66666666666667\n"
          ]
        }
      ]
    },
    {
      "cell_type": "code",
      "source": [
        "# weekly exercise 3\n",
        "# data yang diketahui\n",
        "jamkerja = 8\n",
        "bulanagustus = 31\n",
        "haritidakmasuk = 3\n",
        "gajiperhari = 30000\n",
        "tunjangan = 10\n",
        "jamlembur = 5\n",
        "upahlemburperjam = 10000\n",
        "\n",
        "# jumlah jam kerja\n",
        "hariaktif = bulanagustus-haritidakmasuk\n",
        "totaljamkerja = hariaktif*jamkerja\n",
        "\n",
        "# gaji bulan agustus\n",
        "gajiagustus = totaljamkerja*gajiperhari\n",
        "\n",
        "# jumlah tunjangan\n",
        "tunjanganDwi = (tunjangan/100)*gajiagustus\n",
        "\n",
        "# upah lembur\n",
        "gajilembur = jamlembur*upahlemburperjam\n",
        "\n",
        "# total gaji agustus\n",
        "gajitotal = gajiagustus+tunjanganDwi+gajilembur\n",
        "\n",
        "# hasil\n",
        "print(f\"gaji Dwi bulan Agustus: Rp.{gajiagustus :,}\")\n",
        "print(f\"tunjangan yang diterima: Rp.{tunjanganDwi :,}\")\n",
        "print(f\"total gaji bulan Agustus: Rp.{gajitotal :,}\")\n",
        "\n",
        "\n"
      ],
      "metadata": {
        "colab": {
          "base_uri": "https://localhost:8080/"
        },
        "id": "MbeR-Sn0JB33",
        "outputId": "2541006b-3112-491e-fae7-c0e207dac139"
      },
      "execution_count": 7,
      "outputs": [
        {
          "output_type": "stream",
          "name": "stdout",
          "text": [
            "gaji Dwi bulan Agustus: Rp.6,720,000\n",
            "tunjangan yang diterima: Rp.672,000.0\n",
            "total gaji bulan Agustus: Rp.7,442,000.0\n"
          ]
        }
      ]
    },
    {
      "cell_type": "code",
      "source": [
        ""
      ],
      "metadata": {
        "id": "BZsO4rO-QXSb"
      },
      "execution_count": null,
      "outputs": []
    }
  ]
}