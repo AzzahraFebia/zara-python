{
  "nbformat": 4,
  "nbformat_minor": 0,
  "metadata": {
    "colab": {
      "provenance": [],
      "authorship_tag": "ABX9TyOAfRvtXyMXbldh6LLwnYGD",
      "include_colab_link": true
    },
    "kernelspec": {
      "name": "python3",
      "display_name": "Python 3"
    },
    "language_info": {
      "name": "python"
    }
  },
  "cells": [
    {
      "cell_type": "markdown",
      "metadata": {
        "id": "view-in-github",
        "colab_type": "text"
      },
      "source": [
        "<a href=\"https://colab.research.google.com/github/AzzahraFebia/zara-python/blob/main/week13.ipynb\" target=\"_parent\"><img src=\"https://colab.research.google.com/assets/colab-badge.svg\" alt=\"Open In Colab\"/></a>"
      ]
    },
    {
      "cell_type": "markdown",
      "source": [
        "## <h3 id=\"WeeklyExercise1\">Weekly Exercise 1</h3>\n",
        "Seorang penjual alat tulis menjual 10 bolpoint, 10 pensil dan 10 penghapus. 1 biji bolpoint\n",
        "harganya Rp. 2000, 1 biji pensil harganya Rp. 1.000 dan 1 penghapus harganya Rp. 500.\n",
        "\n",
        "\n",
        "Gunakanlah objek untuk menyelesaikan soal dibawah ini!\n",
        "<li>Buatlah method untuk memasukkan (setter) nama, stok, harga satuan, dan harga (stok x harga satuan) alat tulis tersebut!</li>\n",
        "<li>Buatlah method untuk menampilkan (getter) nama, stok, harga satuan, dan harga (stok x harga satuan) alat tulis tersebut!</li>\n",
        "<li>Buatlah method Total Harga (setter getter) untuk mengelola transaksi penjualan!</li>"
      ],
      "metadata": {
        "id": "b9m5eWdl9IM7"
      }
    },
    {
      "cell_type": "code",
      "source": [
        "# Membuat class dengan nama produk alat tulis\n",
        "class ProdukAlatTulis:\n",
        "    def __init__(self, nama, stok, harga_satuan):\n",
        "        self.nama = nama\n",
        "        self.stok = stok\n",
        "        self.harga_satuan = harga_satuan\n",
        "        self.hargaTotal = self.stok * self.harga_satuan\n",
        "\n",
        "# Memasukkan nama, stok, harga satuan, harga total (setter)\n",
        "    def set_nama(self, nama):\n",
        "        self.nama = nama\n",
        "\n",
        "    def set_stok(self, stok):\n",
        "        self.stok = stok\n",
        "\n",
        "    def set_harga_satuan(self, harga_satuan):\n",
        "        self.harga_satuan = harga_satuan\n",
        "\n",
        "    def set_hargaTotal(self, hargaTotal):\n",
        "        self.hargaTotal = hargaTotal\n",
        "# Menampilkan nama, stok, harga satuan, harga total (getter)\n",
        "    def get_nama(self):\n",
        "        return self.nama\n",
        "\n",
        "    def get_stok(self):\n",
        "        return self.stok\n",
        "\n",
        "    def get_harga_satuan(self):\n",
        "        return self.harga_satuan\n",
        "\n",
        "    def get_hargaTotal(self):\n",
        "        return self.hargaTotal\n",
        "\n",
        "# setter, getter\n",
        "    def produk_terjual (self, jumlah):\n",
        "        if jumlah <= self.stok:\n",
        "            print(f\"{jumlah} {self.nama} berhasil terjual!\")\n",
        "            return True\n",
        "        else:\n",
        "            print(\"Stok tidak mencukupi permintaan!\")\n",
        "            return False\n",
        "\n",
        "# Membuat daftar produk\n",
        "daftar_produk = [\n",
        "    ProdukAlatTulis(\"Bolpoint\", 10, 2000),\n",
        "    ProdukAlatTulis(\"Pensil\", 10, 1000),\n",
        "    ProdukAlatTulis(\"Penghapus\", 10, 500)\n",
        "]\n",
        "\n",
        "# Menampilkan daftar produk\n",
        "print(\"  >> DAFTAR PRODUK <<  \")\n",
        "def tampilan_produk(produk):\n",
        "   print(f\"Nama         : {produk.get_nama()}\")\n",
        "   print(f\"Stok         : {produk.get_stok()}\")\n",
        "   print(f\"Harga Satuan : Rp {produk.get_harga_satuan()}\")\n",
        "   print(f\"Harga Total  : Rp {produk.get_hargaTotal()}\")\n",
        "   print()\n",
        "\n",
        "def tampilkan_semua_produk() :\n",
        "  for produk in daftar_produk:\n",
        "    tampilan_produk(produk)\n",
        "tampilkan_semua_produk()\n",
        "\n",
        "\n",
        "# Pembelian produk oleh user\n",
        "print(\"  >> PEMBELIAN PRODUK <<  \")\n",
        "nama = input(\"Nama Produk      : \").lower()\n",
        "jumlah = int(input(\"Jumlah Produk    : \"))\n",
        "\n",
        "# Mencari nama produk\n",
        "nama_produk = 0\n",
        "for produk in daftar_produk:\n",
        "    if produk.nama.lower() == nama:\n",
        "        nama_produk = produk\n",
        "        break\n",
        "\n",
        "if nama_produk:\n",
        "   # Menghitung harga yang harus dibayar user\n",
        "     if nama_produk.produk_terjual(jumlah):\n",
        "        total_harga = jumlah * nama_produk.harga_satuan\n",
        "        print(f\"Total Pembayaran : Rp {total_harga}\")\n",
        "     else:\n",
        "        print(\"Transaksi gagal!\")\n",
        "else:\n",
        "    print(\"Produk tidak ditemukan\")"
      ],
      "metadata": {
        "id": "Jwjq2kbA4Yu9",
        "colab": {
          "base_uri": "https://localhost:8080/"
        },
        "outputId": "2e856a18-a679-4385-d0da-c487839b6660"
      },
      "execution_count": 60,
      "outputs": [
        {
          "output_type": "stream",
          "name": "stdout",
          "text": [
            "  >> DAFTAR PRODUK <<  \n",
            "Nama         : Bolpoint\n",
            "Stok         : 10\n",
            "Harga Satuan : Rp 2000\n",
            "Harga Total  : Rp 20000\n",
            "\n",
            "Nama         : Pensil\n",
            "Stok         : 10\n",
            "Harga Satuan : Rp 1000\n",
            "Harga Total  : Rp 10000\n",
            "\n",
            "Nama         : Penghapus\n",
            "Stok         : 10\n",
            "Harga Satuan : Rp 500\n",
            "Harga Total  : Rp 5000\n",
            "\n",
            "  >> PEMBELIAN PRODUK <<  \n",
            "Nama Produk      : bolpoint\n",
            "Jumlah Produk    : 5\n",
            "5 Bolpoint berhasil terjual!\n",
            "Total Pembayaran : Rp 10000\n"
          ]
        }
      ]
    }
  ]
}